{
 "cells": [
  {
   "cell_type": "code",
   "execution_count": 5,
   "metadata": {},
   "outputs": [],
   "source": [
    "from Bio.Blast import NCBIXML\n",
    "import pandas as pd\n",
    "from pandas.io.json import json_normalize\n",
    "\n",
    "result = open(\"blast_result-ITS2.xml\", \"r\")\n",
    "records = NCBIXML.parse(result)\n",
    "\n",
    "#Create the outer list\n",
    "final = []\n",
    "for blast_record in records:\n",
    "    dic = {}\n",
    "    #print(blast_record.query)\n",
    "    query_title = blast_record.query.split(\"|\")[0]\n",
    "    dic[\"id\"] = query_title\n",
    "    pairs = []\n",
    "    for i in blast_record.descriptions:\n",
    "        ncbi = i.title.split(\"|\")[3]\n",
    "        name = \" \".join(i.title.split(\"|\")[4].split(\" \")[1:3])\n",
    "        e_value = i.e\n",
    "        score = i.score\n",
    "        dic_pairs = {}\n",
    "        # Make a dictionary containing the name and the e_value\n",
    "        dic_pairs[\"hit\"] = name\n",
    "        dic_pairs[\"e-value\"] = e_value\n",
    "        dic_pairs[\"ncbi\"] = ncbi\n",
    "        dic_pairs[\"score\"] = score\n",
    "        dic_pairs[\"gi_number\"] = i.title.split(\"|\")[1]\n",
    "        pairs.append(dic_pairs)\n",
    "        #Maybe use a counter to break out of the loop\n",
    "    k =[]\n",
    "    for alignment in blast_record.alignments:\n",
    "       # gi_alignment = alignment.title.split(\"|\")[1]\n",
    "        #identity[\"id2\"] = gi_alignment\n",
    "        new = {}\n",
    "        #print(alignment.hsps.align_length)\n",
    "        for hsp in alignment.hsps:\n",
    "            new[\"coverage\"] = hsp.align_length / blast_record.query_length\n",
    "            new[\"bits\"] = hsp.bits\n",
    "            new[\"percent\"] = hsp.identities / hsp.align_length\n",
    "            k.append(new)\n",
    "\n",
    "    dic[\"pairs\"] = pairs\n",
    "    dic[\"k\"] = k\n",
    "    final.append(dic)\n"
   ]
  },
  {
   "cell_type": "code",
   "execution_count": 6,
   "metadata": {},
   "outputs": [],
   "source": [
    "ndata_pairs = json_normalize(final, 'pairs', ['id'])\n",
    "ndata_k = json_normalize(final, 'k', ['id'])\n",
    "df_pairs=pd.DataFrame(ndata_pairs)\n",
    "df_k = pd.DataFrame(ndata_k)"
   ]
  },
  {
   "cell_type": "code",
   "execution_count": 7,
   "metadata": {},
   "outputs": [],
   "source": [
    "fainal_df = pd.merge(df_k, df_pairs, left_index=True, right_index=True)"
   ]
  },
  {
   "cell_type": "code",
   "execution_count": 8,
   "metadata": {},
   "outputs": [
    {
     "data": {
      "text/html": [
       "<div>\n",
       "<style>\n",
       "    .dataframe thead tr:only-child th {\n",
       "        text-align: right;\n",
       "    }\n",
       "\n",
       "    .dataframe thead th {\n",
       "        text-align: left;\n",
       "    }\n",
       "\n",
       "    .dataframe tbody tr th {\n",
       "        vertical-align: top;\n",
       "    }\n",
       "</style>\n",
       "<table border=\"1\" class=\"dataframe\">\n",
       "  <thead>\n",
       "    <tr style=\"text-align: right;\">\n",
       "      <th></th>\n",
       "      <th>id_x</th>\n",
       "      <th>id_y</th>\n",
       "    </tr>\n",
       "  </thead>\n",
       "  <tbody>\n",
       "  </tbody>\n",
       "</table>\n",
       "</div>"
      ],
      "text/plain": [
       "Empty DataFrame\n",
       "Columns: [id_x, id_y]\n",
       "Index: []"
      ]
     },
     "execution_count": 8,
     "metadata": {},
     "output_type": "execute_result"
    }
   ],
   "source": [
    "fainal_df.head()"
   ]
  },
  {
   "cell_type": "code",
   "execution_count": null,
   "metadata": {},
   "outputs": [],
   "source": []
  },
  {
   "cell_type": "code",
   "execution_count": 9,
   "metadata": {},
   "outputs": [
    {
     "ename": "NameError",
     "evalue": "name 'df' is not defined",
     "output_type": "error",
     "traceback": [
      "\u001b[0;31m---------------------------------------------------------------------------\u001b[0m",
      "\u001b[0;31mNameError\u001b[0m                                 Traceback (most recent call last)",
      "\u001b[0;32m<ipython-input-9-bea46e010de5>\u001b[0m in \u001b[0;36m<module>\u001b[0;34m()\u001b[0m\n\u001b[0;32m----> 1\u001b[0;31m \u001b[0mdf\u001b[0m\u001b[0;34m.\u001b[0m\u001b[0mhit\u001b[0m\u001b[0;34m.\u001b[0m\u001b[0munique\u001b[0m\u001b[0;34m(\u001b[0m\u001b[0;34m)\u001b[0m\u001b[0;34m\u001b[0m\u001b[0m\n\u001b[0m",
      "\u001b[0;31mNameError\u001b[0m: name 'df' is not defined"
     ]
    }
   ],
   "source": [
    "df.hit.unique()"
   ]
  },
  {
   "cell_type": "code",
   "execution_count": null,
   "metadata": {},
   "outputs": [],
   "source": []
  },
  {
   "cell_type": "code",
   "execution_count": null,
   "metadata": {},
   "outputs": [],
   "source": []
  }
 ],
 "metadata": {
  "kernelspec": {
   "display_name": "Python 3",
   "language": "python",
   "name": "python3"
  },
  "language_info": {
   "codemirror_mode": {
    "name": "ipython",
    "version": 3
   },
   "file_extension": ".py",
   "mimetype": "text/x-python",
   "name": "python",
   "nbconvert_exporter": "python",
   "pygments_lexer": "ipython3",
   "version": "3.5.3"
  }
 },
 "nbformat": 4,
 "nbformat_minor": 2
}
